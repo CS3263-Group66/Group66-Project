{
 "cells": [
  {
   "cell_type": "code",
   "execution_count": 31,
   "id": "95abbf18",
   "metadata": {},
   "outputs": [],
   "source": [
    "from pgmpy.models import DiscreteBayesianNetwork\n",
    "from pgmpy.factors.discrete import TabularCPD"
   ]
  },
  {
   "cell_type": "code",
   "execution_count": 32,
   "id": "03545f0f",
   "metadata": {},
   "outputs": [],
   "source": [
    "SampleFoodBN = DiscreteBayesianNetwork(\n",
    "    [(\"Apple\", \"Feasibility\"), (\"Banana\", \"Feasibility\"), (\"Feasibility\", \"Success\")]\n",
    ")"
   ]
  },
  {
   "cell_type": "code",
   "execution_count": 33,
   "id": "4c19f585",
   "metadata": {},
   "outputs": [],
   "source": [
    "cpd_apple = TabularCPD(\n",
    "    variable=\"Apple\", variable_card=3, values=[[1 / 4], [1 / 2], [1 / 4]] # Expired, Uncertain, Expired\n",
    ")\n",
    "cpd_banana = TabularCPD(\n",
    "    variable=\"Banana\", variable_card=3, values=[[1 / 3], [1 / 3], [1 / 3]]\n",
    ")"
   ]
  },
  {
   "cell_type": "code",
   "execution_count": 34,
   "id": "8e587f3b",
   "metadata": {},
   "outputs": [],
   "source": [
    "import random\n",
    "p1s = [random.random() for _ in range(9)]\n",
    "p2s = [1 - p1s[i] for i in range(9)]\n",
    "cpd_feasibility = TabularCPD(\n",
    "    variable=\"Feasibility\",\n",
    "    variable_card=2,\n",
    "    values=[p1s, p2s],\n",
    "    evidence=[\"Apple\", \"Banana\"],\n",
    "    evidence_card=[3, 3],\n",
    ")"
   ]
  },
  {
   "cell_type": "code",
   "execution_count": 35,
   "id": "d705c7e0",
   "metadata": {},
   "outputs": [],
   "source": [
    "cpd_success = TabularCPD(\n",
    "    variable='Success',\n",
    "    variable_card=2,\n",
    "    values=[[1/3, 1/2], [2/3, 1/2]],\n",
    "    evidence=[\"Feasibility\"],\n",
    "    evidence_card=[2]\n",
    ")"
   ]
  },
  {
   "cell_type": "code",
   "execution_count": 36,
   "id": "df6fedac",
   "metadata": {},
   "outputs": [],
   "source": [
    "SampleFoodBN.add_cpds(cpd_apple, cpd_banana, cpd_feasibility, cpd_success)"
   ]
  },
  {
   "cell_type": "code",
   "execution_count": 37,
   "id": "91a9d408",
   "metadata": {},
   "outputs": [
    {
     "data": {
      "text/plain": [
       "True"
      ]
     },
     "execution_count": 37,
     "metadata": {},
     "output_type": "execute_result"
    }
   ],
   "source": [
    "SampleFoodBN.check_model()"
   ]
  },
  {
   "cell_type": "code",
   "execution_count": 38,
   "id": "7ae75aa1",
   "metadata": {},
   "outputs": [],
   "source": [
    "from pgmpy.inference import VariableElimination\n",
    "\n",
    "infer = VariableElimination(SampleFoodBN)"
   ]
  },
  {
   "cell_type": "code",
   "execution_count": 39,
   "id": "226c7942",
   "metadata": {},
   "outputs": [
    {
     "name": "stdout",
     "output_type": "stream",
     "text": [
      "+------------+----------------+\n",
      "| Success    |   phi(Success) |\n",
      "+============+================+\n",
      "| Success(0) |         0.4225 |\n",
      "+------------+----------------+\n",
      "| Success(1) |         0.5775 |\n",
      "+------------+----------------+\n"
     ]
    }
   ],
   "source": [
    "p = infer.query([\"Success\"])\n",
    "print(p)"
   ]
  },
  {
   "cell_type": "markdown",
   "id": "a262a868",
   "metadata": {},
   "source": [
    "# Dynamically generate a BN for inference\n",
    "\n",
    "Plan: given recipe, fridge (with conditions and food) $\\rightarrow$ generates a BN based on inputs\n",
    "Outcome: After generating BN, extract evidence from Fridge $\\rightarrow$ infer using BN and get the probability of recipe\n",
    "\n",
    "*Evidence*: Freshness\n",
    "\n",
    "## How to set up BN?\n",
    "### Frehness nodes at the top levels:\n",
    "directly read from recipe's item list\n",
    "\n",
    "### CPD of each item\n",
    "CPT of freshness\n",
    "1. freshness categorize into Expired, Not Expired, Close to Expired\n",
    "2. Problems: How to assign probability? ans: P(F_i) = f(fridge condition, item_type)\n",
    "\n",
    "## How to extract evidence? \n",
    "How to use information such as expiry dates to categorize freshness of items (because of the use of discrete)\n",
    "\n",
    "## Alternative thoughts:\n",
    "\n",
    "Extracting freshness can be another extended BN framework. \n",
    "\n",
    "For instance, freshness can depends on some more \"obvious\" attributes of food such as expiry date, food category. The category can be determined directly, but CPT is determined by some more \"obvious\" factors such as fridge condition, i.e. P(Category) = f(fridge condition); then category can be saved as a food attributes which will be inside fridge\n",
    "\n",
    "**Drawback**: may need to build more subnetworks"
   ]
  }
 ],
 "metadata": {
  "kernelspec": {
   "display_name": "Python 3",
   "language": "python",
   "name": "python3"
  },
  "language_info": {
   "codemirror_mode": {
    "name": "ipython",
    "version": 3
   },
   "file_extension": ".py",
   "mimetype": "text/x-python",
   "name": "python",
   "nbconvert_exporter": "python",
   "pygments_lexer": "ipython3",
   "version": "3.12.11"
  }
 },
 "nbformat": 4,
 "nbformat_minor": 5
}
