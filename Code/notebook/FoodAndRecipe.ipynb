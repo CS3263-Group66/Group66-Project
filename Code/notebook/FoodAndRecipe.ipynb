{
 "cells": [
  {
   "cell_type": "code",
   "execution_count": 1,
   "id": "90b84204",
   "metadata": {},
   "outputs": [],
   "source": [
    "from enum import Enum\n",
    "\n",
    "class FoodType(Enum):\n",
    "    CANNED = 0\n",
    "    VEG_OR_FRUIT = 1\n",
    "    MEAT = 2\n",
    "\n",
    "\n",
    "class StorageType(Enum):\n",
    "    REFRIGERATE = 0\n",
    "    FROZEN = 1\n",
    "    NORMAL_TEMP = 2\n",
    "\n",
    "class DaysInFridge(Enum):\n",
    "    SHORT = 0\n",
    "    MEDIUM = 1\n",
    "    LONG = 2\n",
    "\n",
    "\n",
    "# --- Food class ---\n",
    "class Food:\n",
    "    def __init__(self, name: str, food_type: FoodType, days_in_fridge: int, storage_type: StorageType):\n",
    "        self.name = name\n",
    "        self.food_type = food_type\n",
    "        self.days_in_fridge = days_in_fridge\n",
    "        self.storage_type = storage_type\n",
    "\n",
    "    def __str__(self):\n",
    "        return (f\"{self.name} ({self.food_type.value}) stored as {self.storage_type.value} \"\n",
    "                f\"since {self.date_in_fridge}\")\n",
    "    "
   ]
  },
  {
   "cell_type": "code",
   "execution_count": 2,
   "id": "31db15b8",
   "metadata": {},
   "outputs": [
    {
     "name": "stderr",
     "output_type": "stream",
     "text": [
      "e:\\School-Work-5-Y3S1\\CS3263\\Group66-Project\\venv\\Lib\\site-packages\\tqdm\\auto.py:21: TqdmWarning: IProgress not found. Please update jupyter and ipywidgets. See https://ipywidgets.readthedocs.io/en/stable/user_install.html\n",
      "  from .autonotebook import tqdm as notebook_tqdm\n"
     ]
    }
   ],
   "source": [
    "from pgmpy.models import DiscreteBayesianNetwork\n",
    "from pgmpy.factors.discrete import TabularCPD"
   ]
  },
  {
   "cell_type": "code",
   "execution_count": 3,
   "id": "23f3bdda",
   "metadata": {},
   "outputs": [],
   "source": [
    "SampleFoodBN = DiscreteBayesianNetwork(\n",
    "    [(\"Food Type\", \"Expired\"), (\"Storage Type\", \"Expired\"), (\"Days In Fridge\", \"Expired\")]\n",
    ")"
   ]
  },
  {
   "cell_type": "code",
   "execution_count": 4,
   "id": "60ff0a70",
   "metadata": {},
   "outputs": [],
   "source": [
    "cpd_FT = TabularCPD(\n",
    "    variable=\"Food Type\", variable_card=3, values=[[1 / 3], [1 / 3], [1 / 3]]\n",
    ")\n",
    "\n",
    "cpd_ST = TabularCPD(\n",
    "    variable=\"Storage Type\", variable_card=3, values=[[1 / 3], [1 / 3], [1 / 3]]\n",
    ")\n",
    "\n",
    "cpd_DF= TabularCPD(\n",
    "    variable=\"Days In Fridge\", variable_card=3, values=[[1 / 3], [1 / 3], [1 / 3]]\n",
    ")"
   ]
  },
  {
   "cell_type": "code",
   "execution_count": 5,
   "id": "0e7228ab",
   "metadata": {},
   "outputs": [],
   "source": [
    "cpd_expired = TabularCPD(\n",
    "    variable='Expired',\n",
    "    variable_card=3,\n",
    "    values=[\n",
    "    # P(Fresh)\n",
    "    [0.497, 0.490, 0.479, 0.499, 0.497, 0.494, 0.493, 0.478, 0.455,\n",
    "     0.448, 0.342, 0.274, 0.485, 0.455, 0.410, 0.388, 0.315, 0.225,\n",
    "     0.337, 0.275, 0.150, 0.548, 0.350, 0.112, 0.315, 0.075, 0.015],  \n",
    "\n",
    "    # P(Near_expiry)\n",
    "    [0.500, 0.500, 0.500, 0.500, 0.500, 0.500, 0.500, 0.500, 0.500,\n",
    "     0.400, 0.350, 0.350, 0.500, 0.450, 0.420, 0.400, 0.375, 0.350,\n",
    "     0.450, 0.300, 0.250, 0.450, 0.450, 0.350, 0.450, 0.445, 0.060,],  \n",
    "\n",
    "    # P(Expired)\n",
    "    [0.003, 0.010, 0.021, 0.001, 0.003, 0.006, 0.007, 0.022, 0.045,\n",
    "     0.152, 0.308, 0.376, 0.015, 0.095, 0.170, 0.212, 0.310, 0.425,\n",
    "     0.213, 0.425, 0.600, 0.002, 0.200, 0.538, 0.235, 0.480, 0.925]  \n",
    "],\n",
    "    evidence=[\"Food Type\", \"Storage Type\", \"Days In Fridge\"],\n",
    "    evidence_card=[3, 3, 3]\n",
    ")"
   ]
  },
  {
   "cell_type": "code",
   "execution_count": 7,
   "id": "61166636",
   "metadata": {},
   "outputs": [
    {
     "name": "stdout",
     "output_type": "stream",
     "text": [
      "+----------------+-----+-------------------+\n",
      "| Food Type      | ... | Food Type(2)      |\n",
      "+----------------+-----+-------------------+\n",
      "| Storage Type   | ... | Storage Type(2)   |\n",
      "+----------------+-----+-------------------+\n",
      "| Days In Fridge | ... | Days In Fridge(2) |\n",
      "+----------------+-----+-------------------+\n",
      "| Expired(0)     | ... | 0.125             |\n",
      "+----------------+-----+-------------------+\n",
      "| Expired(1)     | ... | 0.3125            |\n",
      "+----------------+-----+-------------------+\n",
      "| Expired(2)     | ... | 0.5625            |\n",
      "+----------------+-----+-------------------+\n"
     ]
    }
   ],
   "source": [
    "import pandas as pd\n",
    "from pgmpy.factors.discrete import TabularCPD\n",
    "\n",
    "# 1. Load the dataset\n",
    "df = pd.read_csv(\"../food_condition.csv\")\n",
    "\n",
    "# 2. Define mapping to ensure consistent ordering with enums\n",
    "food_order = [\"CANNED\", \"VEG_OR_FRUIT\", \"MEAT\"]\n",
    "storage_order = [\"REFRIGERATE\", \"FROZEN\", \"NORMAL_TEMP\"]\n",
    "days_order = [\"SHORT\", \"MEDIUM\", \"LONG\"]\n",
    "condition_order = [\"Fresh\", \"Near-expired\", \"Expired\"]\n",
    "\n",
    "# 3. Compute conditional probabilities\n",
    "probs = []\n",
    "for food in food_order:\n",
    "    for storage in storage_order:\n",
    "        for days in days_order:\n",
    "            subset = df[\n",
    "                (df[\"FoodType\"] == food)\n",
    "                & (df[\"StorageType\"] == storage)\n",
    "                & (df[\"DaysInFridge\"] == days)\n",
    "            ]\n",
    "            # Sum counts per condition\n",
    "            counts = subset.groupby(\"Condition\")[\"Count\"].sum().reindex(condition_order, fill_value=0)\n",
    "            total = counts.sum()\n",
    "            probs.append((counts / total).tolist())\n",
    "\n",
    "# 4. Reorganize into rows = conditions, columns = combinations of evidence\n",
    "values = list(map(list, zip(*probs)))  # transpose to shape (3, 27)\n",
    "\n",
    "# 5. Create the CPD\n",
    "cpd_expired = TabularCPD(\n",
    "    variable=\"Expired\",\n",
    "    variable_card=3,\n",
    "    values=values,\n",
    "    evidence=[\"Food Type\", \"Storage Type\", \"Days In Fridge\"],\n",
    "    evidence_card=[3, 3, 3]\n",
    ")\n",
    "\n",
    "# 6. Print CPD for inspection\n",
    "print(cpd_expired)"
   ]
  },
  {
   "cell_type": "code",
   "execution_count": 8,
   "id": "d77efe80",
   "metadata": {},
   "outputs": [],
   "source": [
    "SampleFoodBN.add_cpds(cpd_FT, cpd_ST, cpd_DF, cpd_expired)"
   ]
  },
  {
   "cell_type": "code",
   "execution_count": 9,
   "id": "aaa6f261",
   "metadata": {},
   "outputs": [
    {
     "data": {
      "text/plain": [
       "True"
      ]
     },
     "execution_count": 9,
     "metadata": {},
     "output_type": "execute_result"
    }
   ],
   "source": [
    "SampleFoodBN.check_model()"
   ]
  },
  {
   "cell_type": "code",
   "execution_count": 10,
   "id": "148cd499",
   "metadata": {},
   "outputs": [],
   "source": [
    "from pgmpy.inference import VariableElimination\n",
    "\n",
    "infer = VariableElimination(SampleFoodBN)"
   ]
  },
  {
   "cell_type": "code",
   "execution_count": 11,
   "id": "0681c396",
   "metadata": {},
   "outputs": [
    {
     "name": "stdout",
     "output_type": "stream",
     "text": [
      "+------------+----------------+\n",
      "| Expired    |   phi(Expired) |\n",
      "+============+================+\n",
      "| Expired(0) |         0.4375 |\n",
      "+------------+----------------+\n",
      "| Expired(1) |         0.3125 |\n",
      "+------------+----------------+\n",
      "| Expired(2) |         0.2500 |\n",
      "+------------+----------------+\n"
     ]
    }
   ],
   "source": [
    "p = infer.query([\"Expired\"], evidence={\"Food Type\": 1, \"Storage Type\": 0, \"Days In Fridge\": 2})\n",
    "print(p)"
   ]
  },
  {
   "cell_type": "code",
   "execution_count": 12,
   "id": "acb9a394",
   "metadata": {},
   "outputs": [
    {
     "name": "stdout",
     "output_type": "stream",
     "text": [
      "[0.4375 0.3125 0.25  ]\n"
     ]
    }
   ],
   "source": [
    "print(p.values)"
   ]
  }
 ],
 "metadata": {
  "kernelspec": {
   "display_name": "venv",
   "language": "python",
   "name": "python3"
  },
  "language_info": {
   "codemirror_mode": {
    "name": "ipython",
    "version": 3
   },
   "file_extension": ".py",
   "mimetype": "text/x-python",
   "name": "python",
   "nbconvert_exporter": "python",
   "pygments_lexer": "ipython3",
   "version": "3.12.1"
  }
 },
 "nbformat": 4,
 "nbformat_minor": 5
}
